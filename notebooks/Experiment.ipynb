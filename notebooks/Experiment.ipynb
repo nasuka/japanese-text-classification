{
 "cells": [
  {
   "cell_type": "code",
   "execution_count": 3,
   "metadata": {},
   "outputs": [],
   "source": [
    "import pandas as pd\n",
    "import keras\n",
    "from keras.preprocessing import text, sequence\n",
    "from sklearn.metrics import accuracy_score\n",
    "\n",
    "import util\n",
    "from model import get_lstm, get_cnn, get_mlp"
   ]
  },
  {
   "cell_type": "code",
   "execution_count": 4,
   "metadata": {},
   "outputs": [],
   "source": [
    "train = pd.read_csv('../data/processed/train.csv')\n",
    "test = pd.read_csv('../data/processed/test.csv')\n",
    "\n",
    "total = train.append(test)\n",
    "total['tokens'] = total['doc'].apply(util.tokenize)"
   ]
  },
  {
   "cell_type": "markdown",
   "metadata": {},
   "source": [
    "# LSTM"
   ]
  },
  {
   "cell_type": "code",
   "execution_count": 5,
   "metadata": {},
   "outputs": [],
   "source": [
    "max_features = util.CONFIG['LSTM']['MAX_FEATURES']\n",
    "max_len = util.CONFIG['LSTM']['MAX_LEN']\n",
    "tokenizer = text.Tokenizer(num_words=max_features)\n",
    "tokenizer.fit_on_texts(total['tokens'])\n",
    "tokenized_sentence = tokenizer.texts_to_sequences(total['tokens'])\n",
    "sequence_array = sequence.pad_sequences(tokenized_sentence, maxlen=max_len)\n",
    "\n",
    "train_num = train.shape[0]\n",
    "batch_size = util.CONFIG['LSTM']['BATCH_SIZE']\n",
    "epochs = util.CONFIG['LSTM']['EPOCHS']\n",
    "num_classes = util.CONFIG['CLASS_NUM']\n",
    "X = sequence_array\n",
    "Y = total['label'].values - 1\n",
    "\n",
    "train_x = X[:train_num]\n",
    "test_x = X[train_num:]\n",
    "train_y = Y[:train_num]\n",
    "test_y = Y[train_num:]"
   ]
  },
  {
   "cell_type": "code",
   "execution_count": 6,
   "metadata": {},
   "outputs": [
    {
     "name": "stdout",
     "output_type": "stream",
     "text": [
      "Epoch 1/2\n",
      "5895/5895 [==============================] - 52s 9ms/step - loss: 0.2211 - acc: 0.9234\n",
      "Epoch 2/2\n",
      "5895/5895 [==============================] - 54s 9ms/step - loss: 0.0635 - acc: 0.9785\n"
     ]
    },
    {
     "data": {
      "text/plain": [
       "<keras.callbacks.History at 0x7fe1f6ec5710>"
      ]
     },
     "execution_count": 6,
     "metadata": {},
     "output_type": "execute_result"
    }
   ],
   "source": [
    "model = get_lstm(max_len, max_features)\n",
    "\n",
    "model.fit(train_x, \n",
    "          keras.utils.to_categorical(train_y, num_classes), \n",
    "          batch_size=batch_size, \n",
    "          epochs=epochs)"
   ]
  },
  {
   "cell_type": "code",
   "execution_count": 7,
   "metadata": {},
   "outputs": [
    {
     "data": {
      "text/plain": [
       "0.9028532608695652"
      ]
     },
     "execution_count": 7,
     "metadata": {},
     "output_type": "execute_result"
    }
   ],
   "source": [
    "pred = model.predict(test_x).argmax(axis=1)\n",
    "accuracy_score(test_y, pred)"
   ]
  },
  {
   "cell_type": "markdown",
   "metadata": {},
   "source": [
    "# CNN"
   ]
  },
  {
   "cell_type": "code",
   "execution_count": 8,
   "metadata": {},
   "outputs": [
    {
     "name": "stdout",
     "output_type": "stream",
     "text": [
      "Epoch 1/2\n",
      "5895/5895 [==============================] - 30s 5ms/step - loss: 0.3175 - acc: 0.8932\n",
      "Epoch 2/2\n",
      "5895/5895 [==============================] - 27s 5ms/step - loss: 0.1347 - acc: 0.9535\n"
     ]
    },
    {
     "data": {
      "text/plain": [
       "<keras.callbacks.History at 0x7fe1d86a4160>"
      ]
     },
     "execution_count": 8,
     "metadata": {},
     "output_type": "execute_result"
    }
   ],
   "source": [
    "model = get_cnn(max_len, max_features, embed_size=128)\n",
    "model.fit(train_x, \n",
    "          keras.utils.to_categorical(train_y, num_classes), \n",
    "          batch_size=batch_size, \n",
    "          epochs=epochs)"
   ]
  },
  {
   "cell_type": "code",
   "execution_count": 9,
   "metadata": {},
   "outputs": [
    {
     "data": {
      "text/plain": [
       "0.8525815217391305"
      ]
     },
     "execution_count": 9,
     "metadata": {},
     "output_type": "execute_result"
    }
   ],
   "source": [
    "pred = model.predict(test_x).argmax(axis=1)\n",
    "accuracy_score(test_y, pred)"
   ]
  },
  {
   "cell_type": "markdown",
   "metadata": {},
   "source": [
    "# MLP + tfidf"
   ]
  },
  {
   "cell_type": "code",
   "execution_count": 10,
   "metadata": {},
   "outputs": [],
   "source": [
    "from sklearn.feature_extraction.text import TfidfVectorizer"
   ]
  },
  {
   "cell_type": "code",
   "execution_count": 11,
   "metadata": {},
   "outputs": [],
   "source": [
    "vectorizer = TfidfVectorizer(tokenizer=util.tokenize)\n",
    "vectorizer.fit(total['doc'])\n",
    "\n",
    "train_vector = vectorizer.transform(total.iloc[:train_num, 0])\n",
    "test_vector = vectorizer.transform(total.iloc[train_num:, 0])\n",
    "\n",
    "input_size = train_vector.shape[1]"
   ]
  },
  {
   "cell_type": "code",
   "execution_count": 12,
   "metadata": {},
   "outputs": [
    {
     "name": "stdout",
     "output_type": "stream",
     "text": [
      "Epoch 1/2\n",
      "5895/5895 [==============================] - 36s 6ms/step - loss: 0.2084 - acc: 0.9228\n",
      "Epoch 2/2\n",
      "5895/5895 [==============================] - 36s 6ms/step - loss: 0.0433 - acc: 0.9891\n"
     ]
    },
    {
     "data": {
      "text/plain": [
       "<keras.callbacks.History at 0x7fe1af33a1d0>"
      ]
     },
     "execution_count": 12,
     "metadata": {},
     "output_type": "execute_result"
    }
   ],
   "source": [
    "model = get_mlp(input_size=input_size)\n",
    "model.fit(train_vector, \n",
    "          keras.utils.to_categorical(train_y, num_classes), \n",
    "          batch_size=batch_size, \n",
    "          epochs=epochs)"
   ]
  },
  {
   "cell_type": "code",
   "execution_count": 13,
   "metadata": {},
   "outputs": [
    {
     "data": {
      "text/plain": [
       "0.9449728260869565"
      ]
     },
     "execution_count": 13,
     "metadata": {},
     "output_type": "execute_result"
    }
   ],
   "source": [
    "pred = model.predict(test_vector).argmax(axis=1)\n",
    "accuracy_score(test_y, pred)"
   ]
  },
  {
   "cell_type": "code",
   "execution_count": null,
   "metadata": {},
   "outputs": [],
   "source": []
  }
 ],
 "metadata": {
  "kernelspec": {
   "display_name": "Python 3",
   "language": "python",
   "name": "python3"
  },
  "language_info": {
   "codemirror_mode": {
    "name": "ipython",
    "version": 3
   },
   "file_extension": ".py",
   "mimetype": "text/x-python",
   "name": "python",
   "nbconvert_exporter": "python",
   "pygments_lexer": "ipython3",
   "version": "3.6.5"
  }
 },
 "nbformat": 4,
 "nbformat_minor": 2
}
